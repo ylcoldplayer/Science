{
 "cells": [
  {
   "cell_type": "code",
   "execution_count": 8,
   "metadata": {
    "collapsed": true
   },
   "outputs": [],
   "source": [
    "import pandas as pd\n",
    "import numpy as np"
   ]
  },
  {
   "cell_type": "code",
   "execution_count": 9,
   "metadata": {
    "collapsed": false
   },
   "outputs": [],
   "source": [
    "#df = pd.read_csv('states_record_0.txt', sep=\" \")"
   ]
  },
  {
   "cell_type": "code",
   "execution_count": 10,
   "metadata": {
    "collapsed": false
   },
   "outputs": [],
   "source": [
    "#df.head(1)"
   ]
  },
  {
   "cell_type": "code",
   "execution_count": 11,
   "metadata": {
    "collapsed": false
   },
   "outputs": [],
   "source": [
    "#df1 = df[df['greedy_x'] > 0]"
   ]
  },
  {
   "cell_type": "code",
   "execution_count": 19,
   "metadata": {
    "collapsed": false
   },
   "outputs": [],
   "source": [
    "#df1.tail()"
   ]
  },
  {
   "cell_type": "code",
   "execution_count": 20,
   "metadata": {
    "collapsed": false
   },
   "outputs": [
    {
     "name": "stdout",
     "output_type": "stream",
     "text": [
      "      iter_count  current_state_x  current_state_y  state_to_update  greedy_x  \\\n",
      "6123    71240000         1.289523         0.178412                2      10.0   \n",
      "6877    78780000         1.276994         0.165883                1      10.0   \n",
      "6960    79610000         1.275690         0.164579                2      10.0   \n",
      "7054    80550000         1.274230         0.163119                2      10.0   \n",
      "8199    92000000         1.257649         0.146538                2      10.0   \n",
      "\n",
      "      greedy_y  \n",
      "6123       9.0  \n",
      "6877       9.0  \n",
      "6960       9.0  \n",
      "7054       9.0  \n",
      "8199       9.0  \n",
      "120\n"
     ]
    }
   ],
   "source": [
    "#dataList = ['states_record_0.txt', 'states_record_1.txt', 'states_record_2.txt', 'states_record_3.txt', 'states_record_4.txt', 'states_record_5.txt', 'states_record_6.txt']\n",
    "dataList = ['states_record_0.txt']\n",
    "for data in dataList:\n",
    "    df = pd.read_csv(data, sep=\" \")\n",
    "    df.head(1)\n",
    "    df1 = df[df['greedy_x'] > 0]    \n",
    "    print(df1.tail())\n",
    "    print(df1['greedy_x'].size)"
   ]
  },
  {
   "cell_type": "code",
   "execution_count": null,
   "metadata": {
    "collapsed": true
   },
   "outputs": [],
   "source": []
  }
 ],
 "metadata": {
  "kernelspec": {
   "display_name": "Python 3",
   "language": "python",
   "name": "python3"
  },
  "language_info": {
   "codemirror_mode": {
    "name": "ipython",
    "version": 3
   },
   "file_extension": ".py",
   "mimetype": "text/x-python",
   "name": "python",
   "nbconvert_exporter": "python",
   "pygments_lexer": "ipython3",
   "version": "3.6.0"
  }
 },
 "nbformat": 4,
 "nbformat_minor": 2
}
