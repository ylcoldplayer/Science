{
 "cells": [
  {
   "cell_type": "code",
   "execution_count": 8,
   "metadata": {
    "collapsed": true
   },
   "outputs": [],
   "source": [
    "import pandas as pd\n",
    "import numpy as np"
   ]
  },
  {
   "cell_type": "code",
   "execution_count": 9,
   "metadata": {
    "collapsed": false
   },
   "outputs": [],
   "source": [
    "#df = pd.read_csv('states_record_0.txt', sep=\" \")"
   ]
  },
  {
   "cell_type": "code",
   "execution_count": 10,
   "metadata": {
    "collapsed": false
   },
   "outputs": [],
   "source": [
    "#df.head(1)"
   ]
  },
  {
   "cell_type": "code",
   "execution_count": 11,
   "metadata": {
    "collapsed": false
   },
   "outputs": [],
   "source": [
    "#df1 = df[df['greedy_x'] > 0]"
   ]
  },
  {
   "cell_type": "code",
   "execution_count": 12,
   "metadata": {
    "collapsed": false
   },
   "outputs": [],
   "source": [
    "#df1.tail()"
   ]
  },
  {
   "cell_type": "code",
   "execution_count": 13,
   "metadata": {
    "collapsed": false
   },
   "outputs": [
    {
     "name": "stdout",
     "output_type": "stream",
     "text": [
      "       iter_count  current_state_x  current_state_y  state_to_update  \\\n",
      "30143   311440000         2.256777         0.256777                2   \n",
      "30169   311700000         2.256590         0.256590                2   \n",
      "30252   312530000         2.255999         0.255999                2   \n",
      "30507   315080000         2.254179         0.254179                2   \n",
      "30534   315350000         2.253985         0.253985                2   \n",
      "\n",
      "       greedy_x  greedy_y  \n",
      "30143       2.0       1.0  \n",
      "30169       2.0       1.0  \n",
      "30252       2.0       1.0  \n",
      "30507       2.0       1.0  \n",
      "30534       2.0       1.0  \n",
      "      iter_count  current_state_x  current_state_y  state_to_update  greedy_x  \\\n",
      "6106    71070000         1.522400         0.189067                2       4.0   \n",
      "6208    72090000         1.520264         0.186931                2       4.0   \n",
      "6336    73370000         1.517638         0.184304                2       4.0   \n",
      "6451    74520000         1.515298         0.181965                2       4.0   \n",
      "6915    79160000         1.506257         0.172924                2       4.0   \n",
      "\n",
      "      greedy_y  \n",
      "6106       3.0  \n",
      "6208       3.0  \n",
      "6336       3.0  \n",
      "6451       3.0  \n",
      "6915       3.0  \n",
      "       iter_count  current_state_x  current_state_y  state_to_update  \\\n",
      "14224   152250000         1.518370         0.185037                2   \n",
      "14272   152730000         1.517897         0.184563                2   \n",
      "14540   155410000         1.515302         0.181968                2   \n",
      "15114   161150000         1.509889         0.176555                2   \n",
      "15668   166690000         1.504828         0.171494                2   \n",
      "\n",
      "       greedy_x  greedy_y  \n",
      "14224       4.0       3.0  \n",
      "14272       4.0       3.0  \n",
      "14540       4.0       3.0  \n",
      "15114       4.0       3.0  \n",
      "15668       4.0       3.0  \n",
      "       iter_count  current_state_x  current_state_y  state_to_update  \\\n",
      "33245   342460000         1.510567         0.177234                2   \n",
      "33334   343350000         1.510177         0.176844                2   \n",
      "33402   344030000         1.509881         0.176548                2   \n",
      "34399   354000000         1.505607         0.172274                2   \n",
      "34699   357000000         1.504340         0.171006                2   \n",
      "\n",
      "       greedy_x  greedy_y  \n",
      "33245       4.0       3.0  \n",
      "33334       4.0       3.0  \n",
      "33402       4.0       3.0  \n",
      "34399       4.0       3.0  \n",
      "34699       4.0       3.0  \n",
      "Empty DataFrame\n",
      "Columns: [iter_count, current_state_x, current_state_y, state_to_update, greedy_x, greedy_y]\n",
      "Index: []\n",
      "Empty DataFrame\n",
      "Columns: [iter_count, current_state_x, current_state_y, state_to_update, greedy_x, greedy_y]\n",
      "Index: []\n",
      "Empty DataFrame\n",
      "Columns: [iter_count, current_state_x, current_state_y, state_to_update, greedy_x, greedy_y]\n",
      "Index: []\n"
     ]
    }
   ],
   "source": [
    "#dataList = ['states_record_0.txt', 'states_record_1.txt', 'states_record_2.txt', 'states_record_3.txt', 'states_record_4.txt', 'states_record_5.txt', 'states_record_6.txt']\n",
    "dataList = ['states_record_0.txt']\n",
    "for data in dataList:\n",
    "    df = pd.read_csv(data, sep=\" \")\n",
    "    df.head(1)\n",
    "    df1 = df[df['greedy_x'] > 0]    \n",
    "    print(df1.tail())"
   ]
  },
  {
   "cell_type": "code",
   "execution_count": null,
   "metadata": {
    "collapsed": true
   },
   "outputs": [],
   "source": []
  }
 ],
 "metadata": {
  "kernelspec": {
   "display_name": "Python 3",
   "language": "python",
   "name": "python3"
  },
  "language_info": {
   "codemirror_mode": {
    "name": "ipython",
    "version": 3
   },
   "file_extension": ".py",
   "mimetype": "text/x-python",
   "name": "python",
   "nbconvert_exporter": "python",
   "pygments_lexer": "ipython3",
   "version": "3.6.0"
  }
 },
 "nbformat": 4,
 "nbformat_minor": 2
}
